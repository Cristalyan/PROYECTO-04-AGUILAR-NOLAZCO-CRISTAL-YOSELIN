{
  "nbformat": 4,
  "nbformat_minor": 0,
  "metadata": {
    "colab": {
      "name": "PROYECTO-04-AGUILAR-NOLAZCO-CRISTAL-YOSELIN.ipynb",
      "provenance": []
    },
    "kernelspec": {
      "name": "python3",
      "display_name": "Python 3"
    },
    "language_info": {
      "name": "python"
    }
  },
  "cells": [
    {
      "cell_type": "markdown",
      "source": [
        "# **NIVEL BASICO:** ANÁLISIS INTEGRAL"
      ],
      "metadata": {
        "id": "LsvKLV59duZG"
      }
    },
    {
      "cell_type": "markdown",
      "source": [
        "*1. Desarrolla un Web Scraper.*"
      ],
      "metadata": {
        "id": "lscTGSjSWxDm"
      }
    },
    {
      "cell_type": "code",
      "execution_count": 1,
      "metadata": {
        "id": "bFoUEVJU1y8y",
        "colab": {
          "base_uri": "https://localhost:8080/"
        },
        "outputId": "96938ef7-2229-45f3-f935-8052cfd4b9a9"
      },
      "outputs": [
        {
          "output_type": "stream",
          "name": "stdout",
          "text": [
            "Looking in indexes: https://pypi.org/simple, https://us-python.pkg.dev/colab-wheels/public/simple/\n",
            "Collecting tabula.py\n",
            "  Downloading tabula_py-2.5.0-py3-none-any.whl (12.0 MB)\n",
            "\u001b[K     |████████████████████████████████| 12.0 MB 10.0 MB/s \n",
            "\u001b[?25hRequirement already satisfied: numpy in /usr/local/lib/python3.7/dist-packages (from tabula.py) (1.21.6)\n",
            "Collecting distro\n",
            "  Downloading distro-1.7.0-py3-none-any.whl (20 kB)\n",
            "Requirement already satisfied: pandas>=0.25.3 in /usr/local/lib/python3.7/dist-packages (from tabula.py) (1.3.5)\n",
            "Requirement already satisfied: pytz>=2017.3 in /usr/local/lib/python3.7/dist-packages (from pandas>=0.25.3->tabula.py) (2022.2.1)\n",
            "Requirement already satisfied: python-dateutil>=2.7.3 in /usr/local/lib/python3.7/dist-packages (from pandas>=0.25.3->tabula.py) (2.8.2)\n",
            "Requirement already satisfied: six>=1.5 in /usr/local/lib/python3.7/dist-packages (from python-dateutil>=2.7.3->pandas>=0.25.3->tabula.py) (1.15.0)\n",
            "Installing collected packages: distro, tabula.py\n",
            "Successfully installed distro-1.7.0 tabula.py-2.5.0\n"
          ]
        }
      ],
      "source": [
        "#Instalacion tabula py\n",
        "!pip install tabula.py"
      ]
    },
    {
      "cell_type": "code",
      "source": [
        "#Se importan las librerias\n",
        "import tabula\n",
        "import pandas as pd\n",
        "import numpy as np\n",
        "import matplotlib.pyplot as plt\n",
        "import sklearn as skl\n",
        "import pickle"
      ],
      "metadata": {
        "id": "FIQMpxKUULPv"
      },
      "execution_count": 2,
      "outputs": []
    },
    {
      "cell_type": "code",
      "source": [
        "#Instalacion great_expectations y boto3\n",
        "!pip install great_expectations\n",
        "!pip install boto3"
      ],
      "metadata": {
        "colab": {
          "base_uri": "https://localhost:8080/"
        },
        "id": "XHc16ISFUgak",
        "outputId": "df91a485-d8ca-4296-b508-caaeeb74178c"
      },
      "execution_count": 4,
      "outputs": [
        {
          "output_type": "stream",
          "name": "stdout",
          "text": [
            "Looking in indexes: https://pypi.org/simple, https://us-python.pkg.dev/colab-wheels/public/simple/\n",
            "Requirement already satisfied: great_expectations in /usr/local/lib/python3.7/dist-packages (0.15.19)\n",
            "Requirement already satisfied: python-dateutil>=2.8.1 in /usr/local/lib/python3.7/dist-packages (from great_expectations) (2.8.2)\n",
            "Requirement already satisfied: altair<5,>=4.0.0 in /usr/local/lib/python3.7/dist-packages (from great_expectations) (4.2.0)\n",
            "Requirement already satisfied: scipy>=0.19.0 in /usr/local/lib/python3.7/dist-packages (from great_expectations) (1.7.3)\n",
            "Requirement already satisfied: Click>=7.1.2 in /usr/local/lib/python3.7/dist-packages (from great_expectations) (7.1.2)\n",
            "Requirement already satisfied: colorama>=0.4.3 in /usr/local/lib/python3.7/dist-packages (from great_expectations) (0.4.5)\n",
            "Requirement already satisfied: notebook>=6.4.10 in /usr/local/lib/python3.7/dist-packages (from great_expectations) (6.4.12)\n",
            "Requirement already satisfied: termcolor>=1.1.0 in /usr/local/lib/python3.7/dist-packages (from great_expectations) (1.1.0)\n",
            "Requirement already satisfied: tqdm>=4.59.0 in /usr/local/lib/python3.7/dist-packages (from great_expectations) (4.64.0)\n",
            "Requirement already satisfied: pandas>=1.1.0 in /usr/local/lib/python3.7/dist-packages (from great_expectations) (1.3.5)\n",
            "Requirement already satisfied: pyparsing<3,>=2.4 in /usr/local/lib/python3.7/dist-packages (from great_expectations) (2.4.7)\n",
            "Requirement already satisfied: jinja2>=2.10 in /usr/local/lib/python3.7/dist-packages (from great_expectations) (2.11.3)\n",
            "Requirement already satisfied: cryptography>=3.2 in /usr/local/lib/python3.7/dist-packages (from great_expectations) (37.0.4)\n",
            "Requirement already satisfied: numpy>=1.18.5 in /usr/local/lib/python3.7/dist-packages (from great_expectations) (1.21.6)\n",
            "Requirement already satisfied: importlib-metadata>=1.7.0 in /usr/local/lib/python3.7/dist-packages (from great_expectations) (4.12.0)\n",
            "Requirement already satisfied: jsonschema>=2.5.1 in /usr/local/lib/python3.7/dist-packages (from great_expectations) (4.3.3)\n",
            "Requirement already satisfied: urllib3<1.27,>=1.25.4 in /usr/local/lib/python3.7/dist-packages (from great_expectations) (1.25.11)\n",
            "Requirement already satisfied: packaging in /usr/local/lib/python3.7/dist-packages (from great_expectations) (21.3)\n",
            "Requirement already satisfied: ruamel.yaml<0.17.18,>=0.16 in /usr/local/lib/python3.7/dist-packages (from great_expectations) (0.17.17)\n",
            "Requirement already satisfied: typing-extensions>=3.10.0.0 in /usr/local/lib/python3.7/dist-packages (from great_expectations) (4.1.1)\n",
            "Requirement already satisfied: ipywidgets>=7.5.1 in /usr/local/lib/python3.7/dist-packages (from great_expectations) (8.0.1)\n",
            "Requirement already satisfied: mistune>=0.8.4 in /usr/local/lib/python3.7/dist-packages (from great_expectations) (0.8.4)\n",
            "Requirement already satisfied: requests>=2.20 in /usr/local/lib/python3.7/dist-packages (from great_expectations) (2.23.0)\n",
            "Requirement already satisfied: Ipython>=7.16.3 in /usr/local/lib/python3.7/dist-packages (from great_expectations) (7.34.0)\n",
            "Requirement already satisfied: jsonpatch>=1.22 in /usr/local/lib/python3.7/dist-packages (from great_expectations) (1.32)\n",
            "Requirement already satisfied: pytz>=2021.3 in /usr/local/lib/python3.7/dist-packages (from great_expectations) (2022.2.1)\n",
            "Requirement already satisfied: makefun<2,>=1.7.0 in /usr/local/lib/python3.7/dist-packages (from great_expectations) (1.14.0)\n",
            "Requirement already satisfied: tzlocal>=1.2 in /usr/local/lib/python3.7/dist-packages (from great_expectations) (1.5.1)\n",
            "Requirement already satisfied: nbformat>=5.0 in /usr/local/lib/python3.7/dist-packages (from great_expectations) (5.4.0)\n",
            "Requirement already satisfied: toolz in /usr/local/lib/python3.7/dist-packages (from altair<5,>=4.0.0->great_expectations) (0.12.0)\n",
            "Requirement already satisfied: entrypoints in /usr/local/lib/python3.7/dist-packages (from altair<5,>=4.0.0->great_expectations) (0.4)\n",
            "Requirement already satisfied: cffi>=1.12 in /usr/local/lib/python3.7/dist-packages (from cryptography>=3.2->great_expectations) (1.15.1)\n",
            "Requirement already satisfied: pycparser in /usr/local/lib/python3.7/dist-packages (from cffi>=1.12->cryptography>=3.2->great_expectations) (2.21)\n",
            "Requirement already satisfied: zipp>=0.5 in /usr/local/lib/python3.7/dist-packages (from importlib-metadata>=1.7.0->great_expectations) (3.8.1)\n",
            "Requirement already satisfied: setuptools>=18.5 in /usr/local/lib/python3.7/dist-packages (from Ipython>=7.16.3->great_expectations) (57.4.0)\n",
            "Requirement already satisfied: jedi>=0.16 in /usr/local/lib/python3.7/dist-packages (from Ipython>=7.16.3->great_expectations) (0.18.1)\n",
            "Requirement already satisfied: pickleshare in /usr/local/lib/python3.7/dist-packages (from Ipython>=7.16.3->great_expectations) (0.7.5)\n",
            "Requirement already satisfied: matplotlib-inline in /usr/local/lib/python3.7/dist-packages (from Ipython>=7.16.3->great_expectations) (0.1.6)\n",
            "Requirement already satisfied: pexpect>4.3 in /usr/local/lib/python3.7/dist-packages (from Ipython>=7.16.3->great_expectations) (4.8.0)\n",
            "Requirement already satisfied: backcall in /usr/local/lib/python3.7/dist-packages (from Ipython>=7.16.3->great_expectations) (0.2.0)\n",
            "Requirement already satisfied: traitlets>=4.2 in /usr/local/lib/python3.7/dist-packages (from Ipython>=7.16.3->great_expectations) (5.1.1)\n",
            "Requirement already satisfied: prompt-toolkit!=3.0.0,!=3.0.1,<3.1.0,>=2.0.0 in /usr/local/lib/python3.7/dist-packages (from Ipython>=7.16.3->great_expectations) (2.0.10)\n",
            "Requirement already satisfied: decorator in /usr/local/lib/python3.7/dist-packages (from Ipython>=7.16.3->great_expectations) (4.4.2)\n",
            "Requirement already satisfied: pygments in /usr/local/lib/python3.7/dist-packages (from Ipython>=7.16.3->great_expectations) (2.6.1)\n",
            "Requirement already satisfied: ipykernel>=4.5.1 in /usr/local/lib/python3.7/dist-packages (from ipywidgets>=7.5.1->great_expectations) (5.3.4)\n",
            "Requirement already satisfied: widgetsnbextension~=4.0 in /usr/local/lib/python3.7/dist-packages (from ipywidgets>=7.5.1->great_expectations) (4.0.1)\n",
            "Requirement already satisfied: jupyterlab-widgets~=3.0 in /usr/local/lib/python3.7/dist-packages (from ipywidgets>=7.5.1->great_expectations) (3.0.1)\n",
            "Requirement already satisfied: jupyter-client in /usr/local/lib/python3.7/dist-packages (from ipykernel>=4.5.1->ipywidgets>=7.5.1->great_expectations) (6.1.12)\n",
            "Requirement already satisfied: tornado>=4.2 in /usr/local/lib/python3.7/dist-packages (from ipykernel>=4.5.1->ipywidgets>=7.5.1->great_expectations) (6.2)\n",
            "Requirement already satisfied: parso<0.9.0,>=0.8.0 in /usr/local/lib/python3.7/dist-packages (from jedi>=0.16->Ipython>=7.16.3->great_expectations) (0.8.3)\n",
            "Requirement already satisfied: MarkupSafe>=0.23 in /usr/local/lib/python3.7/dist-packages (from jinja2>=2.10->great_expectations) (2.0.1)\n",
            "Requirement already satisfied: jsonpointer>=1.9 in /usr/local/lib/python3.7/dist-packages (from jsonpatch>=1.22->great_expectations) (2.3)\n",
            "Requirement already satisfied: attrs>=17.4.0 in /usr/local/lib/python3.7/dist-packages (from jsonschema>=2.5.1->great_expectations) (22.1.0)\n",
            "Requirement already satisfied: pyrsistent!=0.17.0,!=0.17.1,!=0.17.2,>=0.14.0 in /usr/local/lib/python3.7/dist-packages (from jsonschema>=2.5.1->great_expectations) (0.18.1)\n",
            "Requirement already satisfied: importlib-resources>=1.4.0 in /usr/local/lib/python3.7/dist-packages (from jsonschema>=2.5.1->great_expectations) (5.9.0)\n",
            "Requirement already satisfied: jupyter-core in /usr/local/lib/python3.7/dist-packages (from nbformat>=5.0->great_expectations) (4.11.1)\n",
            "Requirement already satisfied: fastjsonschema in /usr/local/lib/python3.7/dist-packages (from nbformat>=5.0->great_expectations) (2.16.1)\n",
            "Requirement already satisfied: ipython-genutils in /usr/local/lib/python3.7/dist-packages (from notebook>=6.4.10->great_expectations) (0.2.0)\n",
            "Requirement already satisfied: argon2-cffi in /usr/local/lib/python3.7/dist-packages (from notebook>=6.4.10->great_expectations) (21.3.0)\n",
            "Requirement already satisfied: pyzmq>=17 in /usr/local/lib/python3.7/dist-packages (from notebook>=6.4.10->great_expectations) (23.2.1)\n",
            "Requirement already satisfied: nbconvert>=5 in /usr/local/lib/python3.7/dist-packages (from notebook>=6.4.10->great_expectations) (5.6.1)\n",
            "Requirement already satisfied: terminado>=0.8.3 in /usr/local/lib/python3.7/dist-packages (from notebook>=6.4.10->great_expectations) (0.13.3)\n",
            "Requirement already satisfied: Send2Trash>=1.8.0 in /usr/local/lib/python3.7/dist-packages (from notebook>=6.4.10->great_expectations) (1.8.0)\n",
            "Requirement already satisfied: prometheus-client in /usr/local/lib/python3.7/dist-packages (from notebook>=6.4.10->great_expectations) (0.14.1)\n",
            "Requirement already satisfied: nest-asyncio>=1.5 in /usr/local/lib/python3.7/dist-packages (from notebook>=6.4.10->great_expectations) (1.5.5)\n",
            "Requirement already satisfied: testpath in /usr/local/lib/python3.7/dist-packages (from nbconvert>=5->notebook>=6.4.10->great_expectations) (0.6.0)\n",
            "Requirement already satisfied: bleach in /usr/local/lib/python3.7/dist-packages (from nbconvert>=5->notebook>=6.4.10->great_expectations) (5.0.1)\n",
            "Requirement already satisfied: defusedxml in /usr/local/lib/python3.7/dist-packages (from nbconvert>=5->notebook>=6.4.10->great_expectations) (0.7.1)\n",
            "Requirement already satisfied: pandocfilters>=1.4.1 in /usr/local/lib/python3.7/dist-packages (from nbconvert>=5->notebook>=6.4.10->great_expectations) (1.5.0)\n",
            "Requirement already satisfied: ptyprocess>=0.5 in /usr/local/lib/python3.7/dist-packages (from pexpect>4.3->Ipython>=7.16.3->great_expectations) (0.7.0)\n",
            "Requirement already satisfied: six>=1.9.0 in /usr/local/lib/python3.7/dist-packages (from prompt-toolkit!=3.0.0,!=3.0.1,<3.1.0,>=2.0.0->Ipython>=7.16.3->great_expectations) (1.15.0)\n",
            "Requirement already satisfied: wcwidth in /usr/local/lib/python3.7/dist-packages (from prompt-toolkit!=3.0.0,!=3.0.1,<3.1.0,>=2.0.0->Ipython>=7.16.3->great_expectations) (0.2.5)\n",
            "Requirement already satisfied: chardet<4,>=3.0.2 in /usr/local/lib/python3.7/dist-packages (from requests>=2.20->great_expectations) (3.0.4)\n",
            "Requirement already satisfied: idna<3,>=2.5 in /usr/local/lib/python3.7/dist-packages (from requests>=2.20->great_expectations) (2.10)\n",
            "Requirement already satisfied: certifi>=2017.4.17 in /usr/local/lib/python3.7/dist-packages (from requests>=2.20->great_expectations) (2022.6.15)\n",
            "Requirement already satisfied: ruamel.yaml.clib>=0.1.2 in /usr/local/lib/python3.7/dist-packages (from ruamel.yaml<0.17.18,>=0.16->great_expectations) (0.2.6)\n",
            "Requirement already satisfied: argon2-cffi-bindings in /usr/local/lib/python3.7/dist-packages (from argon2-cffi->notebook>=6.4.10->great_expectations) (21.2.0)\n",
            "Requirement already satisfied: webencodings in /usr/local/lib/python3.7/dist-packages (from bleach->nbconvert>=5->notebook>=6.4.10->great_expectations) (0.5.1)\n",
            "Looking in indexes: https://pypi.org/simple, https://us-python.pkg.dev/colab-wheels/public/simple/\n",
            "Requirement already satisfied: boto3 in /usr/local/lib/python3.7/dist-packages (1.24.56)\n",
            "Requirement already satisfied: botocore<1.28.0,>=1.27.56 in /usr/local/lib/python3.7/dist-packages (from boto3) (1.27.56)\n",
            "Requirement already satisfied: jmespath<2.0.0,>=0.7.1 in /usr/local/lib/python3.7/dist-packages (from boto3) (1.0.1)\n",
            "Requirement already satisfied: s3transfer<0.7.0,>=0.6.0 in /usr/local/lib/python3.7/dist-packages (from boto3) (0.6.0)\n",
            "Requirement already satisfied: python-dateutil<3.0.0,>=2.1 in /usr/local/lib/python3.7/dist-packages (from botocore<1.28.0,>=1.27.56->boto3) (2.8.2)\n",
            "Requirement already satisfied: urllib3<1.27,>=1.25.4 in /usr/local/lib/python3.7/dist-packages (from botocore<1.28.0,>=1.27.56->boto3) (1.25.11)\n",
            "Requirement already satisfied: six>=1.5 in /usr/local/lib/python3.7/dist-packages (from python-dateutil<3.0.0,>=2.1->botocore<1.28.0,>=1.27.56->boto3) (1.15.0)\n"
          ]
        }
      ]
    },
    {
      "cell_type": "code",
      "source": [
        "#Importacion de tabula, great_epectations y io para leer PDF\n",
        "from tabula import read_pdf\n",
        "import great_expectations as great_expectations\n",
        "from io import StringIO"
      ],
      "metadata": {
        "id": "MyWPIpELVlSE"
      },
      "execution_count": 5,
      "outputs": []
    },
    {
      "cell_type": "markdown",
      "source": [
        "*2. Carga los datos extraídos por el web scraper.*"
      ],
      "metadata": {
        "id": "keup3QENW4LX"
      }
    },
    {
      "cell_type": "code",
      "source": [
        "#Convercion del PDF a dataf\n",
        "ventasc=\"/content/Venta_Combustibles_2021.pdf\"\n",
        "source_pdf=read_pdf(ventasc,lattice=True, pages=\"all\")\n",
        "dataf=source_pdf[0]"
      ],
      "metadata": {
        "id": "ryP0bODWWdle"
      },
      "execution_count": 8,
      "outputs": []
    },
    {
      "cell_type": "code",
      "source": [
        "#Muestra primeras 10 filas de dataf\n",
        "dataf.head(10)"
      ],
      "metadata": {
        "colab": {
          "base_uri": "https://localhost:8080/",
          "height": 363
        },
        "id": "dLPblQMYYTcq",
        "outputId": "e27bfcbb-58ac-4a04-b511-8a15cf4c4bf2"
      },
      "execution_count": 9,
      "outputs": [
        {
          "output_type": "execute_result",
          "data": {
            "text/plain": [
              "              Ciudad          Estado  Año_mes Tipo_Combustible  \\\n",
              "0           Acapulco        Guerrero   202101        Turbosina   \n",
              "1     Aguascalientes  Aguascalientes   202101        Turbosina   \n",
              "2           El Bajio      Guanajuato   202101        Turbosina   \n",
              "3     Ciudad Obregon          Sonora   202101        Turbosina   \n",
              "4      Ciudad Juarez       Chihuahua   202101        Turbosina   \n",
              "5  Ciudad Del Carmen        Campeche   202101        Turbosina   \n",
              "6             Colima          Colima   202101        Turbosina   \n",
              "7           Campeche        Campeche   202101        Turbosina   \n",
              "8           Chetumal    Quintana Roo   202101        Turbosina   \n",
              "9           Culiacan         Sinaloa   202101        Turbosina   \n",
              "\n",
              "   Litros_de_co\\rmbustible  Servicios\\rrealizados  \n",
              "0                  1150919                    433  \n",
              "1                  1432481                    398  \n",
              "2                  3798722                    824  \n",
              "3                   616464                    208  \n",
              "4                  1747270                    519  \n",
              "5                  1362085                    397  \n",
              "6                   293316                     82  \n",
              "7                   426467                    123  \n",
              "8                   364544                    111  \n",
              "9                  2877051                    742  "
            ],
            "text/html": [
              "\n",
              "  <div id=\"df-e62a9425-e94a-439a-bb6e-3d7baf472c89\">\n",
              "    <div class=\"colab-df-container\">\n",
              "      <div>\n",
              "<style scoped>\n",
              "    .dataframe tbody tr th:only-of-type {\n",
              "        vertical-align: middle;\n",
              "    }\n",
              "\n",
              "    .dataframe tbody tr th {\n",
              "        vertical-align: top;\n",
              "    }\n",
              "\n",
              "    .dataframe thead th {\n",
              "        text-align: right;\n",
              "    }\n",
              "</style>\n",
              "<table border=\"1\" class=\"dataframe\">\n",
              "  <thead>\n",
              "    <tr style=\"text-align: right;\">\n",
              "      <th></th>\n",
              "      <th>Ciudad</th>\n",
              "      <th>Estado</th>\n",
              "      <th>Año_mes</th>\n",
              "      <th>Tipo_Combustible</th>\n",
              "      <th>Litros_de_co\\rmbustible</th>\n",
              "      <th>Servicios\\rrealizados</th>\n",
              "    </tr>\n",
              "  </thead>\n",
              "  <tbody>\n",
              "    <tr>\n",
              "      <th>0</th>\n",
              "      <td>Acapulco</td>\n",
              "      <td>Guerrero</td>\n",
              "      <td>202101</td>\n",
              "      <td>Turbosina</td>\n",
              "      <td>1150919</td>\n",
              "      <td>433</td>\n",
              "    </tr>\n",
              "    <tr>\n",
              "      <th>1</th>\n",
              "      <td>Aguascalientes</td>\n",
              "      <td>Aguascalientes</td>\n",
              "      <td>202101</td>\n",
              "      <td>Turbosina</td>\n",
              "      <td>1432481</td>\n",
              "      <td>398</td>\n",
              "    </tr>\n",
              "    <tr>\n",
              "      <th>2</th>\n",
              "      <td>El Bajio</td>\n",
              "      <td>Guanajuato</td>\n",
              "      <td>202101</td>\n",
              "      <td>Turbosina</td>\n",
              "      <td>3798722</td>\n",
              "      <td>824</td>\n",
              "    </tr>\n",
              "    <tr>\n",
              "      <th>3</th>\n",
              "      <td>Ciudad Obregon</td>\n",
              "      <td>Sonora</td>\n",
              "      <td>202101</td>\n",
              "      <td>Turbosina</td>\n",
              "      <td>616464</td>\n",
              "      <td>208</td>\n",
              "    </tr>\n",
              "    <tr>\n",
              "      <th>4</th>\n",
              "      <td>Ciudad Juarez</td>\n",
              "      <td>Chihuahua</td>\n",
              "      <td>202101</td>\n",
              "      <td>Turbosina</td>\n",
              "      <td>1747270</td>\n",
              "      <td>519</td>\n",
              "    </tr>\n",
              "    <tr>\n",
              "      <th>5</th>\n",
              "      <td>Ciudad Del Carmen</td>\n",
              "      <td>Campeche</td>\n",
              "      <td>202101</td>\n",
              "      <td>Turbosina</td>\n",
              "      <td>1362085</td>\n",
              "      <td>397</td>\n",
              "    </tr>\n",
              "    <tr>\n",
              "      <th>6</th>\n",
              "      <td>Colima</td>\n",
              "      <td>Colima</td>\n",
              "      <td>202101</td>\n",
              "      <td>Turbosina</td>\n",
              "      <td>293316</td>\n",
              "      <td>82</td>\n",
              "    </tr>\n",
              "    <tr>\n",
              "      <th>7</th>\n",
              "      <td>Campeche</td>\n",
              "      <td>Campeche</td>\n",
              "      <td>202101</td>\n",
              "      <td>Turbosina</td>\n",
              "      <td>426467</td>\n",
              "      <td>123</td>\n",
              "    </tr>\n",
              "    <tr>\n",
              "      <th>8</th>\n",
              "      <td>Chetumal</td>\n",
              "      <td>Quintana Roo</td>\n",
              "      <td>202101</td>\n",
              "      <td>Turbosina</td>\n",
              "      <td>364544</td>\n",
              "      <td>111</td>\n",
              "    </tr>\n",
              "    <tr>\n",
              "      <th>9</th>\n",
              "      <td>Culiacan</td>\n",
              "      <td>Sinaloa</td>\n",
              "      <td>202101</td>\n",
              "      <td>Turbosina</td>\n",
              "      <td>2877051</td>\n",
              "      <td>742</td>\n",
              "    </tr>\n",
              "  </tbody>\n",
              "</table>\n",
              "</div>\n",
              "      <button class=\"colab-df-convert\" onclick=\"convertToInteractive('df-e62a9425-e94a-439a-bb6e-3d7baf472c89')\"\n",
              "              title=\"Convert this dataframe to an interactive table.\"\n",
              "              style=\"display:none;\">\n",
              "        \n",
              "  <svg xmlns=\"http://www.w3.org/2000/svg\" height=\"24px\"viewBox=\"0 0 24 24\"\n",
              "       width=\"24px\">\n",
              "    <path d=\"M0 0h24v24H0V0z\" fill=\"none\"/>\n",
              "    <path d=\"M18.56 5.44l.94 2.06.94-2.06 2.06-.94-2.06-.94-.94-2.06-.94 2.06-2.06.94zm-11 1L8.5 8.5l.94-2.06 2.06-.94-2.06-.94L8.5 2.5l-.94 2.06-2.06.94zm10 10l.94 2.06.94-2.06 2.06-.94-2.06-.94-.94-2.06-.94 2.06-2.06.94z\"/><path d=\"M17.41 7.96l-1.37-1.37c-.4-.4-.92-.59-1.43-.59-.52 0-1.04.2-1.43.59L10.3 9.45l-7.72 7.72c-.78.78-.78 2.05 0 2.83L4 21.41c.39.39.9.59 1.41.59.51 0 1.02-.2 1.41-.59l7.78-7.78 2.81-2.81c.8-.78.8-2.07 0-2.86zM5.41 20L4 18.59l7.72-7.72 1.47 1.35L5.41 20z\"/>\n",
              "  </svg>\n",
              "      </button>\n",
              "      \n",
              "  <style>\n",
              "    .colab-df-container {\n",
              "      display:flex;\n",
              "      flex-wrap:wrap;\n",
              "      gap: 12px;\n",
              "    }\n",
              "\n",
              "    .colab-df-convert {\n",
              "      background-color: #E8F0FE;\n",
              "      border: none;\n",
              "      border-radius: 50%;\n",
              "      cursor: pointer;\n",
              "      display: none;\n",
              "      fill: #1967D2;\n",
              "      height: 32px;\n",
              "      padding: 0 0 0 0;\n",
              "      width: 32px;\n",
              "    }\n",
              "\n",
              "    .colab-df-convert:hover {\n",
              "      background-color: #E2EBFA;\n",
              "      box-shadow: 0px 1px 2px rgba(60, 64, 67, 0.3), 0px 1px 3px 1px rgba(60, 64, 67, 0.15);\n",
              "      fill: #174EA6;\n",
              "    }\n",
              "\n",
              "    [theme=dark] .colab-df-convert {\n",
              "      background-color: #3B4455;\n",
              "      fill: #D2E3FC;\n",
              "    }\n",
              "\n",
              "    [theme=dark] .colab-df-convert:hover {\n",
              "      background-color: #434B5C;\n",
              "      box-shadow: 0px 1px 3px 1px rgba(0, 0, 0, 0.15);\n",
              "      filter: drop-shadow(0px 1px 2px rgba(0, 0, 0, 0.3));\n",
              "      fill: #FFFFFF;\n",
              "    }\n",
              "  </style>\n",
              "\n",
              "      <script>\n",
              "        const buttonEl =\n",
              "          document.querySelector('#df-e62a9425-e94a-439a-bb6e-3d7baf472c89 button.colab-df-convert');\n",
              "        buttonEl.style.display =\n",
              "          google.colab.kernel.accessAllowed ? 'block' : 'none';\n",
              "\n",
              "        async function convertToInteractive(key) {\n",
              "          const element = document.querySelector('#df-e62a9425-e94a-439a-bb6e-3d7baf472c89');\n",
              "          const dataTable =\n",
              "            await google.colab.kernel.invokeFunction('convertToInteractive',\n",
              "                                                     [key], {});\n",
              "          if (!dataTable) return;\n",
              "\n",
              "          const docLinkHtml = 'Like what you see? Visit the ' +\n",
              "            '<a target=\"_blank\" href=https://colab.research.google.com/notebooks/data_table.ipynb>data table notebook</a>'\n",
              "            + ' to learn more about interactive tables.';\n",
              "          element.innerHTML = '';\n",
              "          dataTable['output_type'] = 'display_data';\n",
              "          await google.colab.output.renderOutput(dataTable, element);\n",
              "          const docLink = document.createElement('div');\n",
              "          docLink.innerHTML = docLinkHtml;\n",
              "          element.appendChild(docLink);\n",
              "        }\n",
              "      </script>\n",
              "    </div>\n",
              "  </div>\n",
              "  "
            ]
          },
          "metadata": {},
          "execution_count": 9
        }
      ]
    },
    {
      "cell_type": "markdown",
      "source": [
        "*3. Al ejecutar tu análisis exploratorio, describe el número de columnas y    filas que encuentras.*"
      ],
      "metadata": {
        "id": "_B598u4EZNEF"
      }
    },
    {
      "cell_type": "code",
      "source": [
        "#Esto hace que muestre el numero de filas y columnas que existen en el dataf\n",
        "print('Número de filas: ', dataf.shape[0])\n",
        "print('Número de columnas: ', dataf.shape[1])"
      ],
      "metadata": {
        "colab": {
          "base_uri": "https://localhost:8080/"
        },
        "id": "S78kW_xgZMQb",
        "outputId": "c160d9cd-64a9-4e07-cde2-66862f06c822"
      },
      "execution_count": 10,
      "outputs": [
        {
          "output_type": "stream",
          "name": "stdout",
          "text": [
            "Número de filas:  45\n",
            "Número de columnas:  6\n"
          ]
        }
      ]
    },
    {
      "cell_type": "markdown",
      "source": [
        "*4. Calcula la media, máximo, mínimo y desviación estándar de las columnas   con valores numéricos.*"
      ],
      "metadata": {
        "id": "viuS8i5QZ1sG"
      }
    },
    {
      "cell_type": "code",
      "source": [
        "#Calculamos la media, el maximo, el valor minimo y la desviación estandar de las columnas de VN\n",
        "dataf.describe()"
      ],
      "metadata": {
        "colab": {
          "base_uri": "https://localhost:8080/",
          "height": 300
        },
        "id": "gJb-ig6JZz4x",
        "outputId": "46de9ee0-daf1-4bcb-bccf-078e1da3285f"
      },
      "execution_count": 11,
      "outputs": [
        {
          "output_type": "execute_result",
          "data": {
            "text/plain": [
              "        Año_mes  Litros_de_co\\rmbustible  Servicios\\rrealizados\n",
              "count      45.0             4.500000e+01              45.000000\n",
              "mean   202101.0             5.239269e+06             875.711111\n",
              "std         0.0             1.554830e+07            1980.936953\n",
              "min    202101.0             9.490000e+02               2.000000\n",
              "25%    202101.0             1.191030e+05              82.000000\n",
              "50%    202101.0             7.828550e+05             244.000000\n",
              "75%    202101.0             2.600838e+06             662.000000\n",
              "max    202101.0             9.282059e+07           11656.000000"
            ],
            "text/html": [
              "\n",
              "  <div id=\"df-38278e25-038d-473e-9245-9c26bc3f6a35\">\n",
              "    <div class=\"colab-df-container\">\n",
              "      <div>\n",
              "<style scoped>\n",
              "    .dataframe tbody tr th:only-of-type {\n",
              "        vertical-align: middle;\n",
              "    }\n",
              "\n",
              "    .dataframe tbody tr th {\n",
              "        vertical-align: top;\n",
              "    }\n",
              "\n",
              "    .dataframe thead th {\n",
              "        text-align: right;\n",
              "    }\n",
              "</style>\n",
              "<table border=\"1\" class=\"dataframe\">\n",
              "  <thead>\n",
              "    <tr style=\"text-align: right;\">\n",
              "      <th></th>\n",
              "      <th>Año_mes</th>\n",
              "      <th>Litros_de_co\\rmbustible</th>\n",
              "      <th>Servicios\\rrealizados</th>\n",
              "    </tr>\n",
              "  </thead>\n",
              "  <tbody>\n",
              "    <tr>\n",
              "      <th>count</th>\n",
              "      <td>45.0</td>\n",
              "      <td>4.500000e+01</td>\n",
              "      <td>45.000000</td>\n",
              "    </tr>\n",
              "    <tr>\n",
              "      <th>mean</th>\n",
              "      <td>202101.0</td>\n",
              "      <td>5.239269e+06</td>\n",
              "      <td>875.711111</td>\n",
              "    </tr>\n",
              "    <tr>\n",
              "      <th>std</th>\n",
              "      <td>0.0</td>\n",
              "      <td>1.554830e+07</td>\n",
              "      <td>1980.936953</td>\n",
              "    </tr>\n",
              "    <tr>\n",
              "      <th>min</th>\n",
              "      <td>202101.0</td>\n",
              "      <td>9.490000e+02</td>\n",
              "      <td>2.000000</td>\n",
              "    </tr>\n",
              "    <tr>\n",
              "      <th>25%</th>\n",
              "      <td>202101.0</td>\n",
              "      <td>1.191030e+05</td>\n",
              "      <td>82.000000</td>\n",
              "    </tr>\n",
              "    <tr>\n",
              "      <th>50%</th>\n",
              "      <td>202101.0</td>\n",
              "      <td>7.828550e+05</td>\n",
              "      <td>244.000000</td>\n",
              "    </tr>\n",
              "    <tr>\n",
              "      <th>75%</th>\n",
              "      <td>202101.0</td>\n",
              "      <td>2.600838e+06</td>\n",
              "      <td>662.000000</td>\n",
              "    </tr>\n",
              "    <tr>\n",
              "      <th>max</th>\n",
              "      <td>202101.0</td>\n",
              "      <td>9.282059e+07</td>\n",
              "      <td>11656.000000</td>\n",
              "    </tr>\n",
              "  </tbody>\n",
              "</table>\n",
              "</div>\n",
              "      <button class=\"colab-df-convert\" onclick=\"convertToInteractive('df-38278e25-038d-473e-9245-9c26bc3f6a35')\"\n",
              "              title=\"Convert this dataframe to an interactive table.\"\n",
              "              style=\"display:none;\">\n",
              "        \n",
              "  <svg xmlns=\"http://www.w3.org/2000/svg\" height=\"24px\"viewBox=\"0 0 24 24\"\n",
              "       width=\"24px\">\n",
              "    <path d=\"M0 0h24v24H0V0z\" fill=\"none\"/>\n",
              "    <path d=\"M18.56 5.44l.94 2.06.94-2.06 2.06-.94-2.06-.94-.94-2.06-.94 2.06-2.06.94zm-11 1L8.5 8.5l.94-2.06 2.06-.94-2.06-.94L8.5 2.5l-.94 2.06-2.06.94zm10 10l.94 2.06.94-2.06 2.06-.94-2.06-.94-.94-2.06-.94 2.06-2.06.94z\"/><path d=\"M17.41 7.96l-1.37-1.37c-.4-.4-.92-.59-1.43-.59-.52 0-1.04.2-1.43.59L10.3 9.45l-7.72 7.72c-.78.78-.78 2.05 0 2.83L4 21.41c.39.39.9.59 1.41.59.51 0 1.02-.2 1.41-.59l7.78-7.78 2.81-2.81c.8-.78.8-2.07 0-2.86zM5.41 20L4 18.59l7.72-7.72 1.47 1.35L5.41 20z\"/>\n",
              "  </svg>\n",
              "      </button>\n",
              "      \n",
              "  <style>\n",
              "    .colab-df-container {\n",
              "      display:flex;\n",
              "      flex-wrap:wrap;\n",
              "      gap: 12px;\n",
              "    }\n",
              "\n",
              "    .colab-df-convert {\n",
              "      background-color: #E8F0FE;\n",
              "      border: none;\n",
              "      border-radius: 50%;\n",
              "      cursor: pointer;\n",
              "      display: none;\n",
              "      fill: #1967D2;\n",
              "      height: 32px;\n",
              "      padding: 0 0 0 0;\n",
              "      width: 32px;\n",
              "    }\n",
              "\n",
              "    .colab-df-convert:hover {\n",
              "      background-color: #E2EBFA;\n",
              "      box-shadow: 0px 1px 2px rgba(60, 64, 67, 0.3), 0px 1px 3px 1px rgba(60, 64, 67, 0.15);\n",
              "      fill: #174EA6;\n",
              "    }\n",
              "\n",
              "    [theme=dark] .colab-df-convert {\n",
              "      background-color: #3B4455;\n",
              "      fill: #D2E3FC;\n",
              "    }\n",
              "\n",
              "    [theme=dark] .colab-df-convert:hover {\n",
              "      background-color: #434B5C;\n",
              "      box-shadow: 0px 1px 3px 1px rgba(0, 0, 0, 0.15);\n",
              "      filter: drop-shadow(0px 1px 2px rgba(0, 0, 0, 0.3));\n",
              "      fill: #FFFFFF;\n",
              "    }\n",
              "  </style>\n",
              "\n",
              "      <script>\n",
              "        const buttonEl =\n",
              "          document.querySelector('#df-38278e25-038d-473e-9245-9c26bc3f6a35 button.colab-df-convert');\n",
              "        buttonEl.style.display =\n",
              "          google.colab.kernel.accessAllowed ? 'block' : 'none';\n",
              "\n",
              "        async function convertToInteractive(key) {\n",
              "          const element = document.querySelector('#df-38278e25-038d-473e-9245-9c26bc3f6a35');\n",
              "          const dataTable =\n",
              "            await google.colab.kernel.invokeFunction('convertToInteractive',\n",
              "                                                     [key], {});\n",
              "          if (!dataTable) return;\n",
              "\n",
              "          const docLinkHtml = 'Like what you see? Visit the ' +\n",
              "            '<a target=\"_blank\" href=https://colab.research.google.com/notebooks/data_table.ipynb>data table notebook</a>'\n",
              "            + ' to learn more about interactive tables.';\n",
              "          element.innerHTML = '';\n",
              "          dataTable['output_type'] = 'display_data';\n",
              "          await google.colab.output.renderOutput(dataTable, element);\n",
              "          const docLink = document.createElement('div');\n",
              "          docLink.innerHTML = docLinkHtml;\n",
              "          element.appendChild(docLink);\n",
              "        }\n",
              "      </script>\n",
              "    </div>\n",
              "  </div>\n",
              "  "
            ]
          },
          "metadata": {},
          "execution_count": 11
        }
      ]
    },
    {
      "cell_type": "markdown",
      "source": [
        "*5.Limpia los datos de  acuerdo a su utilidad.*"
      ],
      "metadata": {
        "id": "gzGnDRqhaFdf"
      }
    },
    {
      "cell_type": "code",
      "source": [
        "#La siguiente función busca cuales columnas contiene valores nulos\n",
        "dataf.isna().any()"
      ],
      "metadata": {
        "colab": {
          "base_uri": "https://localhost:8080/"
        },
        "id": "0llW6tpxaoVq",
        "outputId": "f209b48d-777f-422f-b917-3388bcc51504"
      },
      "execution_count": 12,
      "outputs": [
        {
          "output_type": "execute_result",
          "data": {
            "text/plain": [
              "Ciudad                     False\n",
              "Estado                     False\n",
              "Año_mes                    False\n",
              "Tipo_Combustible           False\n",
              "Litros_de_co\\rmbustible    False\n",
              "Servicios\\rrealizados      False\n",
              "dtype: bool"
            ]
          },
          "metadata": {},
          "execution_count": 12
        }
      ]
    },
    {
      "cell_type": "code",
      "source": [
        "#Enseguida se muestra la funcion con la cual se busca y cuenta la cantidad de valores nulos del dataf\n",
        "dataf.isna().sum()"
      ],
      "metadata": {
        "colab": {
          "base_uri": "https://localhost:8080/"
        },
        "id": "Uz0uzGFKaxu_",
        "outputId": "0e736887-ed52-46dc-ce0e-78d72412111a"
      },
      "execution_count": 13,
      "outputs": [
        {
          "output_type": "execute_result",
          "data": {
            "text/plain": [
              "Ciudad                     0\n",
              "Estado                     0\n",
              "Año_mes                    0\n",
              "Tipo_Combustible           0\n",
              "Litros_de_co\\rmbustible    0\n",
              "Servicios\\rrealizados      0\n",
              "dtype: int64"
            ]
          },
          "metadata": {},
          "execution_count": 13
        }
      ]
    },
    {
      "cell_type": "markdown",
      "source": [
        "# ***-Explica detalladamente  por qué es o no es una  buena idea invertir en el  sector económico del que  recopilaste información.***"
      ],
      "metadata": {
        "id": "vpMQtJjjbhAh"
      }
    },
    {
      "cell_type": "markdown",
      "source": [
        "Seria buena idea invertir en el anterior sector economico debido a que en la informacion analizada muestra que las ventas son buenas, de igual forma nos pudimos dar cuenta que la media de los servicios realizados es de 875.711111 y es muy buena cantidad."
      ],
      "metadata": {
        "id": "iDn69eRvbqyM"
      }
    }
  ]
}